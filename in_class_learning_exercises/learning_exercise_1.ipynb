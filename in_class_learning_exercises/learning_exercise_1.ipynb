{
 "cells": [
  {
   "cell_type": "markdown",
   "metadata": {},
   "source": [
    "## Learning Exercise 1"
   ]
  },
  {
   "cell_type": "markdown",
   "metadata": {},
   "source": [
    "### Import Modules"
   ]
  },
  {
   "cell_type": "code",
   "execution_count": 1,
   "metadata": {},
   "outputs": [],
   "source": [
    "import pandas as pd\n",
    "import numpy as np\n",
    "import seaborn as sns\n",
    "import matplotlib.pyplot as plt\n",
    "% matplotlib inline"
   ]
  },
  {
   "cell_type": "markdown",
   "metadata": {},
   "source": [
    "### Grading Rubric\n",
    "\n",
    "Creation of visualizations are each worth 3 points. All other questions are 1 point each. It's possible to get partial-credit on the visualizations if you present work close to the best answer.\n",
    "\n",
    "You'll get docked/lose points if any of the following things exist with your submission:\n",
    "\n",
    "- wrong file type submission\n",
    "- incorrect naming of file\n",
    "- blank lines in code blocks\n",
    "- multiple visualizations for an answer when I only ask for one\n",
    "- repeated imports of modules\n",
    "- excess output like printing a dataframe or extra matplotlib text; get my attention during this exercise if you're struggling to fix it\n",
    "- incorrect or nonsensical names of axes, legends, titles, etc\n",
    "- one character spacing between arguments in a method call. Acceptable: `sns.boxplot(x=\"day\", y=\"total_bill\", data=tips)`. Unacceptable: `sns.boxplot(x=\"day\",y=\"total_bill\",data=tips)`"
   ]
  },
  {
   "cell_type": "markdown",
   "metadata": {},
   "source": [
    "### Titanic Dataset"
   ]
  },
  {
   "cell_type": "markdown",
   "metadata": {},
   "source": [
    "The Titanic is a well-known ship that sunk on its maiden voyage in 1912 after collision with an iceberg. Many were killed in the incident. You may recognize this name from the movie with Leonardo DiCaprio. \n",
    "\n",
    "https://www.kaggle.com/c/titanic/data\n",
    "\n",
    "Below are just a few fields you'll need for analysis.\n",
    "\n",
    "#### Data Dictionary\n",
    "\n",
    "Variable | Defintion \n",
    "--- | --- \n",
    "Age | Age (in years)\n",
    "who | person type/characterization \n",
    "\n",
    "Each row/record in the dataset represents characteristics for a unique person."
   ]
  },
  {
   "cell_type": "markdown",
   "metadata": {},
   "source": [
    "#### Question 1: Read in dataset using Seaborn and assign to variable\n",
    "\n",
    "You can use this code snippet to read in the dataset: `sns.load_dataset('titanic')`"
   ]
  },
  {
   "cell_type": "code",
   "execution_count": 2,
   "metadata": {},
   "outputs": [],
   "source": [
    "# code here"
   ]
  },
  {
   "cell_type": "markdown",
   "metadata": {},
   "source": [
    "#### Question 2: Can you write code to preview the first 5 rows/records of this dataset?\n",
    "\n",
    "You can use the following method: https://pandas.pydata.org/pandas-docs/stable/generated/pandas.DataFrame.head.html"
   ]
  },
  {
   "cell_type": "code",
   "execution_count": 2,
   "metadata": {},
   "outputs": [],
   "source": [
    "# code here"
   ]
  },
  {
   "cell_type": "markdown",
   "metadata": {},
   "source": [
    "#### Question 3: Plot a box plot of the age distribution of people on the Titanic using Seaborn\n",
    "\n",
    "- Orientation of box plot should be horizontal\n",
    "- X-axis should be age. \n",
    "- Include a relevant title\n",
    "- Make the plot's figure size 14 inches wide by 6 inches in height\n",
    "- Make the font sizes larger for: title, x-ticks and x-label\n",
    "\n",
    "To adjust figure size: https://matplotlib.org/api/_as_gen/matplotlib.figure.Figure.html\n",
    "\n",
    "You may need to filter the dataframe by a specific column. If you don't know how, you can see an example here: https://chrisalbon.com/python/data_wrangling/filter_dataframes/\n",
    "\n",
    "Hint: if you use Matplotlib, Pandas Plot or Seaborn, you can use `sns.set_context(\"talk\")` to make all fonts scaled to be larger (see https://seaborn.pydata.org/tutorial/aesthetics.html)\n",
    "\n",
    "Seaborn's box plot functionality is great! However, make sure to filter out null age values! https://seaborn.pydata.org/generated/seaborn.boxplot.html"
   ]
  },
  {
   "cell_type": "code",
   "execution_count": 4,
   "metadata": {},
   "outputs": [],
   "source": [
    "# code here"
   ]
  },
  {
   "cell_type": "markdown",
   "metadata": {},
   "source": [
    "#### Question 4: Between what two ages, at the 25th and 75th percentile, are these ~50% of people on the Titanic?\n",
    "\n",
    "Hint: you can use Pandas `quantile()` method to find the 25th and 75th percentile: https://pandas.pydata.org/pandas-docs/version/0.23.1/generated/pandas.Series.quantile.html. Alternatively, you can see the output with Pandas `describe()` method: https://pandas.pydata.org/pandas-docs/stable/generated/pandas.Series.describe.html"
   ]
  },
  {
   "cell_type": "code",
   "execution_count": 5,
   "metadata": {},
   "outputs": [],
   "source": [
    "# code here"
   ]
  },
  {
   "cell_type": "markdown",
   "metadata": {},
   "source": [
    "text answer here "
   ]
  },
  {
   "cell_type": "markdown",
   "metadata": {},
   "source": [
    "#### Question 5: How many outliers are there based on people's age on the Titanic?\n",
    "\n",
    "Outliers should be visible on your Seaborn plot. Seaborn uses a calculation for outliers based on the popular inter-quartile range method."
   ]
  },
  {
   "cell_type": "markdown",
   "metadata": {},
   "source": [
    "text answer here"
   ]
  },
  {
   "cell_type": "markdown",
   "metadata": {},
   "source": [
    "#### Question 6: What was the oldest age person on the Titanic?\n",
    "\n",
    "Hint: you can use the `max()` method found here: https://pandas.pydata.org/pandas-docs/version/0.21/generated/pandas.Series.max.html\n",
    "\n",
    "Please answer this question programmatically."
   ]
  },
  {
   "cell_type": "code",
   "execution_count": 6,
   "metadata": {},
   "outputs": [],
   "source": [
    "# code here"
   ]
  },
  {
   "cell_type": "markdown",
   "metadata": {},
   "source": [
    "#### Question 7: What was the youngest (minimum) aged person on the Titanic?\n",
    "\n",
    "Please answer this question programmatically."
   ]
  },
  {
   "cell_type": "code",
   "execution_count": 7,
   "metadata": {},
   "outputs": [],
   "source": [
    "# code here"
   ]
  },
  {
   "cell_type": "markdown",
   "metadata": {},
   "source": [
    "#### Question 8: Draw three box plots on the same axes/plot to compare the ages of men, women and children on the Titanic using Seaborn\n",
    "\n",
    "- Orientation of both box plots should be vertical\n",
    "- Make sure the x-axis and y-axis have proper labels\n",
    "- Include a detailed title\n",
    "- Make the plot's figure size 12 inches wide by 8 inches in height\n",
    "- Make the font sizes larger for: title, x-ticks, y-ticks, y-label and x-label\n",
    "\n",
    "Seaborn's box plot functionality: https://seaborn.pydata.org/generated/seaborn.boxplot.html"
   ]
  },
  {
   "cell_type": "code",
   "execution_count": 8,
   "metadata": {},
   "outputs": [],
   "source": [
    "# code here"
   ]
  },
  {
   "cell_type": "markdown",
   "metadata": {},
   "source": [
    "#### Question 9: Which person type (`who` field) has the largest range of ages?\n",
    "\n",
    "Documentation on what is the definition of range: https://www.mathsisfun.com/definitions/range-statistics-.html"
   ]
  },
  {
   "cell_type": "markdown",
   "metadata": {},
   "source": [
    "text answer here"
   ]
  },
  {
   "cell_type": "markdown",
   "metadata": {},
   "source": [
    "#### Question 10: Create a horizontal bar plot of count of people for the `who` field using Seaborn\n",
    "\n",
    "- Make sure the x-axis and y-axis have proper labels\n",
    "- Include a detailed title\n",
    "- Make the plot's figure size 9 inches wide by 6 inches in height\n",
    "- Make the font sizes larger for: title, x-ticks, y-ticks, y-label and x-label"
   ]
  },
  {
   "cell_type": "code",
   "execution_count": 9,
   "metadata": {},
   "outputs": [],
   "source": [
    "# code here"
   ]
  },
  {
   "cell_type": "markdown",
   "metadata": {},
   "source": [
    "#### Question 11: Were there more woman and children combined, or just men on the Titanic?"
   ]
  },
  {
   "cell_type": "markdown",
   "metadata": {},
   "source": [
    "text answer here"
   ]
  },
  {
   "cell_type": "code",
   "execution_count": null,
   "metadata": {},
   "outputs": [],
   "source": []
  }
 ],
 "metadata": {
  "kernelspec": {
   "display_name": "Python 3",
   "language": "python",
   "name": "python3"
  },
  "language_info": {
   "codemirror_mode": {
    "name": "ipython",
    "version": 3
   },
   "file_extension": ".py",
   "mimetype": "text/x-python",
   "name": "python",
   "nbconvert_exporter": "python",
   "pygments_lexer": "ipython3",
   "version": "3.6.0"
  }
 },
 "nbformat": 4,
 "nbformat_minor": 2
}
