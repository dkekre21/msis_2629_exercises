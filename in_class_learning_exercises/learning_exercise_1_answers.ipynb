{
 "cells": [
  {
   "cell_type": "markdown",
   "metadata": {},
   "source": [
    "## Learning Exercise 1"
   ]
  },
  {
   "cell_type": "markdown",
   "metadata": {},
   "source": [
    "### Import Modules"
   ]
  },
  {
   "cell_type": "code",
   "execution_count": 2,
   "metadata": {},
   "outputs": [],
   "source": [
    "import pandas as pd\n",
    "import numpy as np\n",
    "import seaborn as sns\n",
    "import matplotlib.pyplot as plt\n",
    "% matplotlib inline"
   ]
  },
  {
   "cell_type": "markdown",
   "metadata": {},
   "source": [
    "### Grading Rubric\n",
    "\n",
    "Creation of visualizations are each worth 3 points. All other questions are 1 point each. It's possible to get partial-credit on the visualizations if you present work close to the best answer.\n",
    "\n",
    "You'll get docked/lose points if any of the following things exist with your submission:\n",
    "\n",
    "- wrong file type submission\n",
    "- incorrect naming of file\n",
    "- blank lines in code blocks\n",
    "- multiple visualizations for an answer when I only ask for one\n",
    "- repeated imports of modules\n",
    "- excess output like printing a dataframe or extra matplotlib text; get my attention during this exercise if you're struggling to fix it\n",
    "- incorrect or nonsensical names of axes, legends, titles, etc\n",
    "- one character spacing between arguments in a method call. Acceptable: `sns.boxplot(x=\"day\", y=\"total_bill\", data=tips)`. Unacceptable: `sns.boxplot(x=\"day\",y=\"total_bill\",data=tips)`"
   ]
  },
  {
   "cell_type": "markdown",
   "metadata": {},
   "source": [
    "### Titanic Dataset"
   ]
  },
  {
   "cell_type": "markdown",
   "metadata": {},
   "source": [
    "The Titanic is a well-known ship that sunk on its maiden voyage in 1912 after collision with an iceberg. Many were killed in the incident. You may recognize this name from the movie with Leonardo DiCaprio. \n",
    "\n",
    "https://www.kaggle.com/c/titanic/data\n",
    "\n",
    "Below are just a few fields you'll need for analysis.\n",
    "\n",
    "#### Data Dictionary\n",
    "\n",
    "Variable | Defintion | Key\n",
    "--- | --- | ---\n",
    "Age | Age (in years) |\n",
    "who | person type/characterization |\n",
    "\n",
    "Each row/record in the dataset represents characteristics for a unique person."
   ]
  },
  {
   "cell_type": "markdown",
   "metadata": {},
   "source": [
    "#### Question 1: Read in dataset using Seaborn and assign to variable\n",
    "\n",
    "You can use this code snippet to read in the dataset: `sns.load_dataset('titanic')`"
   ]
  },
  {
   "cell_type": "code",
   "execution_count": 3,
   "metadata": {},
   "outputs": [],
   "source": [
    "df = sns.load_dataset('titanic')"
   ]
  },
  {
   "cell_type": "markdown",
   "metadata": {},
   "source": [
    "#### Question 2: Can you write code to preview the first 5 rows/records of this dataset?\n",
    "\n",
    "You can use the following method: https://pandas.pydata.org/pandas-docs/stable/generated/pandas.DataFrame.head.html"
   ]
  },
  {
   "cell_type": "code",
   "execution_count": 4,
   "metadata": {},
   "outputs": [
    {
     "data": {
      "text/html": [
       "<div>\n",
       "<table border=\"1\" class=\"dataframe\">\n",
       "  <thead>\n",
       "    <tr style=\"text-align: right;\">\n",
       "      <th></th>\n",
       "      <th>survived</th>\n",
       "      <th>pclass</th>\n",
       "      <th>sex</th>\n",
       "      <th>age</th>\n",
       "      <th>sibsp</th>\n",
       "      <th>parch</th>\n",
       "      <th>fare</th>\n",
       "      <th>embarked</th>\n",
       "      <th>class</th>\n",
       "      <th>who</th>\n",
       "      <th>adult_male</th>\n",
       "      <th>deck</th>\n",
       "      <th>embark_town</th>\n",
       "      <th>alive</th>\n",
       "      <th>alone</th>\n",
       "    </tr>\n",
       "  </thead>\n",
       "  <tbody>\n",
       "    <tr>\n",
       "      <th>0</th>\n",
       "      <td>0</td>\n",
       "      <td>3</td>\n",
       "      <td>male</td>\n",
       "      <td>22.0</td>\n",
       "      <td>1</td>\n",
       "      <td>0</td>\n",
       "      <td>7.2500</td>\n",
       "      <td>S</td>\n",
       "      <td>Third</td>\n",
       "      <td>man</td>\n",
       "      <td>True</td>\n",
       "      <td>NaN</td>\n",
       "      <td>Southampton</td>\n",
       "      <td>no</td>\n",
       "      <td>False</td>\n",
       "    </tr>\n",
       "    <tr>\n",
       "      <th>1</th>\n",
       "      <td>1</td>\n",
       "      <td>1</td>\n",
       "      <td>female</td>\n",
       "      <td>38.0</td>\n",
       "      <td>1</td>\n",
       "      <td>0</td>\n",
       "      <td>71.2833</td>\n",
       "      <td>C</td>\n",
       "      <td>First</td>\n",
       "      <td>woman</td>\n",
       "      <td>False</td>\n",
       "      <td>C</td>\n",
       "      <td>Cherbourg</td>\n",
       "      <td>yes</td>\n",
       "      <td>False</td>\n",
       "    </tr>\n",
       "    <tr>\n",
       "      <th>2</th>\n",
       "      <td>1</td>\n",
       "      <td>3</td>\n",
       "      <td>female</td>\n",
       "      <td>26.0</td>\n",
       "      <td>0</td>\n",
       "      <td>0</td>\n",
       "      <td>7.9250</td>\n",
       "      <td>S</td>\n",
       "      <td>Third</td>\n",
       "      <td>woman</td>\n",
       "      <td>False</td>\n",
       "      <td>NaN</td>\n",
       "      <td>Southampton</td>\n",
       "      <td>yes</td>\n",
       "      <td>True</td>\n",
       "    </tr>\n",
       "    <tr>\n",
       "      <th>3</th>\n",
       "      <td>1</td>\n",
       "      <td>1</td>\n",
       "      <td>female</td>\n",
       "      <td>35.0</td>\n",
       "      <td>1</td>\n",
       "      <td>0</td>\n",
       "      <td>53.1000</td>\n",
       "      <td>S</td>\n",
       "      <td>First</td>\n",
       "      <td>woman</td>\n",
       "      <td>False</td>\n",
       "      <td>C</td>\n",
       "      <td>Southampton</td>\n",
       "      <td>yes</td>\n",
       "      <td>False</td>\n",
       "    </tr>\n",
       "    <tr>\n",
       "      <th>4</th>\n",
       "      <td>0</td>\n",
       "      <td>3</td>\n",
       "      <td>male</td>\n",
       "      <td>35.0</td>\n",
       "      <td>0</td>\n",
       "      <td>0</td>\n",
       "      <td>8.0500</td>\n",
       "      <td>S</td>\n",
       "      <td>Third</td>\n",
       "      <td>man</td>\n",
       "      <td>True</td>\n",
       "      <td>NaN</td>\n",
       "      <td>Southampton</td>\n",
       "      <td>no</td>\n",
       "      <td>True</td>\n",
       "    </tr>\n",
       "  </tbody>\n",
       "</table>\n",
       "</div>"
      ],
      "text/plain": [
       "   survived  pclass     sex   age  sibsp  parch     fare embarked  class  \\\n",
       "0         0       3    male  22.0      1      0   7.2500        S  Third   \n",
       "1         1       1  female  38.0      1      0  71.2833        C  First   \n",
       "2         1       3  female  26.0      0      0   7.9250        S  Third   \n",
       "3         1       1  female  35.0      1      0  53.1000        S  First   \n",
       "4         0       3    male  35.0      0      0   8.0500        S  Third   \n",
       "\n",
       "     who adult_male deck  embark_town alive  alone  \n",
       "0    man       True  NaN  Southampton    no  False  \n",
       "1  woman      False    C    Cherbourg   yes  False  \n",
       "2  woman      False  NaN  Southampton   yes   True  \n",
       "3  woman      False    C  Southampton   yes  False  \n",
       "4    man       True  NaN  Southampton    no   True  "
      ]
     },
     "execution_count": 4,
     "metadata": {},
     "output_type": "execute_result"
    }
   ],
   "source": [
    "df.head()"
   ]
  },
  {
   "cell_type": "markdown",
   "metadata": {},
   "source": [
    "#### Question 3: Plot a box plot of the age distribution of people on the Titanic using Seaborn\n",
    "\n",
    "- Orientation of box plot should be horizontal\n",
    "- X-axis should be age. \n",
    "- Include a relevant title\n",
    "- Make the plot's figure size 14 inches wide by 6 inches in height\n",
    "- Make the font sizes larger for: title, x-ticks and x-label\n",
    "\n",
    "To adjust figure size: https://matplotlib.org/api/_as_gen/matplotlib.figure.Figure.html\n",
    "\n",
    "You may need to filter the dataframe by a specific column. If you don't know how, you can see an example here: https://chrisalbon.com/python/data_wrangling/filter_dataframes/\n",
    "\n",
    "Hint: if you use Matplotlib, Pandas Plot or Seaborn, you can use `sns.set_context(\"talk\")` to make all fonts scaled to be larger (see https://seaborn.pydata.org/tutorial/aesthetics.html)\n",
    "\n",
    "Seaborn's box plot functionality is great! However, make sure to filter out null age values! https://seaborn.pydata.org/generated/seaborn.boxplot.html"
   ]
  },
  {
   "cell_type": "code",
   "execution_count": 5,
   "metadata": {},
   "outputs": [
    {
     "data": {
      "text/plain": [
       "<matplotlib.text.Text at 0x1136b2550>"
      ]
     },
     "execution_count": 5,
     "metadata": {},
     "output_type": "execute_result"
    },
    {
     "data": {
      "image/png": "[encoded data removed]",
      "text/plain": [
       "<matplotlib.figure.Figure at 0x11367fbe0>"
      ]
     },
     "metadata": {},
     "output_type": "display_data"
    }
   ],
   "source": [
    "sns.set_context(\"talk\")\n",
    "plt.figure(figsize=(14, 6))\n",
    "sns.boxplot(x=df[df['age'].notnull()]['age'])\n",
    "plt.title(\"Distribution of Age of People on the Titanic\", y=1.015)\n",
    "plt.xlabel(\"age [years]\", labelpad=13);"
   ]
  },
  {
   "cell_type": "markdown",
   "metadata": {},
   "source": [
    "#### Question 4: Between what two ages, at the 25th and 75th percentile, are these ~50% of people on the Titanic?\n",
    "\n",
    "Hint: you can use Pandas `quantile()` method to find the 25th and 75th percentile: https://pandas.pydata.org/pandas-docs/version/0.23.1/generated/pandas.Series.quantile.html. Alternatively, you can see the output with Pandas `describe()` method: https://pandas.pydata.org/pandas-docs/stable/generated/pandas.Series.describe.html"
   ]
  },
  {
   "cell_type": "code",
   "execution_count": 9,
   "metadata": {},
   "outputs": [
    {
     "data": {
      "text/plain": [
       "count    714.000000\n",
       "mean      29.699118\n",
       "std       14.526497\n",
       "min        0.420000\n",
       "25%       20.125000\n",
       "50%       28.000000\n",
       "75%       38.000000\n",
       "max       80.000000\n",
       "Name: age, dtype: float64"
      ]
     },
     "execution_count": 9,
     "metadata": {},
     "output_type": "execute_result"
    }
   ],
   "source": [
    "df['age'].describe()"
   ]
  },
  {
   "cell_type": "markdown",
   "metadata": {},
   "source": [
    "20.125 and 38 years old"
   ]
  },
  {
   "cell_type": "markdown",
   "metadata": {},
   "source": [
    "#### Question 5: How many outliers are there based on people's age on the Titanic?\n",
    "\n",
    "Outliers should be visible on your Seaborn plot. Seaborn uses a calculation for outliers based on the popular inter-quartile range method."
   ]
  },
  {
   "cell_type": "code",
   "execution_count": 14,
   "metadata": {},
   "outputs": [],
   "source": [
    "twenty_fifth_percentile = df['age'].quantile(.25)\n",
    "seventy_fifth_percentile = df['age'].quantile(.75)\n",
    "iqr = seventy_fifth_percentile - twenty_fifth_percentile"
   ]
  },
  {
   "cell_type": "code",
   "execution_count": 20,
   "metadata": {},
   "outputs": [],
   "source": [
    "high_outlier_bound = seventy_fifth_percentile + (iqr*1.5)"
   ]
  },
  {
   "cell_type": "code",
   "execution_count": 21,
   "metadata": {},
   "outputs": [
    {
     "data": {
      "text/plain": [
       "64.8125"
      ]
     },
     "execution_count": 21,
     "metadata": {},
     "output_type": "execute_result"
    }
   ],
   "source": [
    "high_outlier_bound"
   ]
  },
  {
   "cell_type": "code",
   "execution_count": 23,
   "metadata": {},
   "outputs": [
    {
     "data": {
      "text/plain": [
       "11"
      ]
     },
     "execution_count": 23,
     "metadata": {},
     "output_type": "execute_result"
    }
   ],
   "source": [
    "len(df[df['age']>high_outlier_bound])"
   ]
  },
  {
   "cell_type": "markdown",
   "metadata": {},
   "source": [
    "The correct answer is 11. However, I mentioned you could just look at the plot visually and count the number of outliers which would give 7. I'll accept both answers due to my mistake. \n",
    "\n",
    "The reason 7 is incorrect is there are overlapping points on the box plot so visually it looks like 7, but it's actually 11."
   ]
  },
  {
   "cell_type": "markdown",
   "metadata": {},
   "source": [
    "#### Question 6: What was the oldest age person on the Titanic?\n",
    "\n",
    "Hint: you can use the `max()` method found here: https://pandas.pydata.org/pandas-docs/version/0.21/generated/pandas.Series.max.html\n",
    "\n",
    "Please answer this question programmatically."
   ]
  },
  {
   "cell_type": "code",
   "execution_count": 24,
   "metadata": {},
   "outputs": [
    {
     "data": {
      "text/plain": [
       "80.0"
      ]
     },
     "execution_count": 24,
     "metadata": {},
     "output_type": "execute_result"
    }
   ],
   "source": [
    "df['age'].max()"
   ]
  },
  {
   "cell_type": "markdown",
   "metadata": {},
   "source": [
    "#### Question 7: What was the youngest (minimum) aged person on the Titanic?\n",
    "\n",
    "Please answer this question programmatically."
   ]
  },
  {
   "cell_type": "code",
   "execution_count": 25,
   "metadata": {},
   "outputs": [
    {
     "data": {
      "text/plain": [
       "0.41999999999999998"
      ]
     },
     "execution_count": 25,
     "metadata": {},
     "output_type": "execute_result"
    }
   ],
   "source": [
    "df['age'].min()"
   ]
  },
  {
   "cell_type": "markdown",
   "metadata": {},
   "source": [
    "#### Question 8: Draw three box plots on the same axes/plot to compare the ages of men, women and children on the Titanic using Seaborn\n",
    "\n",
    "- Orientation of both box plots should be vertical\n",
    "- Make sure the x-axis and y-axis have proper labels\n",
    "- Include a detailed title\n",
    "- Make the plot's figure size 12 inches wide by 8 inches in height\n",
    "- Make the font sizes larger for: title, x-ticks, y-ticks, y-label and x-label\n",
    "\n",
    "Seaborn's box plot functionality: https://seaborn.pydata.org/generated/seaborn.boxplot.html"
   ]
  },
  {
   "cell_type": "code",
   "execution_count": 26,
   "metadata": {},
   "outputs": [
    {
     "data": {
      "image/png": "[encoded data removed]",
      "text/plain": [
       "<matplotlib.figure.Figure at 0x112ea5b00>"
      ]
     },
     "metadata": {},
     "output_type": "display_data"
    }
   ],
   "source": [
    "plt.figure(figsize=(12, 8))\n",
    "sns.boxplot(x=\"who\", y=\"age\", data=df, orient='v')\n",
    "plt.title(\"Age Distributions of Different Types of People on the Titanic\", y=1.015)\n",
    "plt.xlabel(\"person type\", labelpad=13)\n",
    "plt.ylabel(\"age [years]\", labelpad=13);"
   ]
  },
  {
   "cell_type": "markdown",
   "metadata": {},
   "source": [
    "#### Question 9: Which person type (`who` field) has the largest range of ages?\n",
    "\n",
    "Documentation on what is the definition of range: https://www.mathsisfun.com/definitions/range-statistics-.html"
   ]
  },
  {
   "cell_type": "markdown",
   "metadata": {},
   "source": [
    "Men"
   ]
  },
  {
   "cell_type": "markdown",
   "metadata": {},
   "source": [
    "### Question 10: Create a horizontal bar plot of count of people for the `who` field using Seaborn\n",
    "\n",
    "- Make sure the x-axis and y-axis have proper labels\n",
    "- Include a detailed title\n",
    "- Make the plot's figure size 9 inches wide by 6 inches in height\n",
    "- Make the font sizes larger for: title, x-ticks, y-ticks, y-label and x-label"
   ]
  },
  {
   "cell_type": "code",
   "execution_count": 27,
   "metadata": {},
   "outputs": [
    {
     "data": {
      "image/png": "[encoded data removed]",
      "text/plain": [
       "<matplotlib.figure.Figure at 0x112ea5c50>"
      ]
     },
     "metadata": {},
     "output_type": "display_data"
    }
   ],
   "source": [
    "plt.figure(figsize=(9, 6))\n",
    "sns.countplot(y=\"who\", data=df, orient='h')\n",
    "plt.title(\"Count of Type of People On the Titanic\", y=1.015)\n",
    "plt.xlabel(\"count [people]\", labelpad=13)\n",
    "plt.ylabel(\"person type\", labelpad=13);"
   ]
  },
  {
   "cell_type": "markdown",
   "metadata": {},
   "source": [
    "#### Question 11: Were there more woman and children combined, or just men on the Titanic?"
   ]
  },
  {
   "cell_type": "code",
   "execution_count": 28,
   "metadata": {},
   "outputs": [
    {
     "data": {
      "text/plain": [
       "354"
      ]
     },
     "execution_count": 28,
     "metadata": {},
     "output_type": "execute_result"
    }
   ],
   "source": [
    "len(df[df['who'].isin(['woman', 'child'])==True])"
   ]
  },
  {
   "cell_type": "code",
   "execution_count": 29,
   "metadata": {},
   "outputs": [
    {
     "data": {
      "text/plain": [
       "537"
      ]
     },
     "execution_count": 29,
     "metadata": {},
     "output_type": "execute_result"
    }
   ],
   "source": [
    "len(df[df['who']=='man'])"
   ]
  },
  {
   "cell_type": "markdown",
   "metadata": {},
   "source": [
    "Men"
   ]
  }
 ],
 "metadata": {
  "kernelspec": {
   "display_name": "Python 3",
   "language": "python",
   "name": "python3"
  },
  "language_info": {
   "codemirror_mode": {
    "name": "ipython",
    "version": 3
   },
   "file_extension": ".py",
   "mimetype": "text/x-python",
   "name": "python",
   "nbconvert_exporter": "python",
   "pygments_lexer": "ipython3",
   "version": "3.6.0"
  }
 },
 "nbformat": 4,
 "nbformat_minor": 2
}
