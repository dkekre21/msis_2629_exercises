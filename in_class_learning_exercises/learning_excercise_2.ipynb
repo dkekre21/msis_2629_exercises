{
 "cells": [
  {
   "cell_type": "markdown",
   "metadata": {},
   "source": [
    "### Learning Exercise 2\n",
    "\n"
   ]
  },
  {
   "cell_type": "markdown",
   "metadata": {},
   "source": [
    "\n",
    "\n",
    "Creation of visualizations are each worth 5 points. All other questions are 1 point each. It's possible to get partial-credit on the visualizations if you present work close to the best answer.\n",
    "\n",
    "For all figures, make the font sizes larger for all text that look easy to read with the recommended figure size. I'd recommend `sns.set_context('talk')`.\n",
    "\n",
    "You'll get docked/lose points if any of the following things exist with your submission:\n",
    "\n",
    "- any tick-values are *not* perfectly horizontal, so they can be easily read from left to right\n",
    "- wrong file type submission\n",
    "- No text on visualizations chained with underscores\n",
    "- incorrect naming of file\n",
    "- blank lines in code blocks\n",
    "- multiple visualizations for an answer when I only ask for one\n",
    "- repeated imports of modules\n",
    "- excess output like printing a dataframe or extra matplotlib text; get my attention during this exercise if you're struggling to fix it\n",
    "- incorrect or nonsensical names of axes, legends, titles, etc\n",
    "- correct units of measurements for all axes labels if needed. For example, if you plot the age of people, express it as age in years, days, seconds or the correct unit; it is not sufficient to simply write age.\n",
    "- one character spacing between arguments in a method call. Acceptable: `sns.boxplot(x=\"day\", y=\"total_bill\", data=tips)`. Unacceptable: `sns.boxplot(x=\"day\",y=\"total_bill\",data=tips)`"
   ]
  },
  {
   "cell_type": "markdown",
   "metadata": {},
   "source": [
    "#### Import Modules"
   ]
  },
  {
   "cell_type": "code",
   "execution_count": 116,
   "metadata": {},
   "outputs": [],
   "source": [
    "import pandas as pd\n",
    "from matplotlib import pyplot as plt\n",
    "import seaborn as sns\n",
    "import datetime\n",
    "%matplotlib inline"
   ]
  },
  {
   "cell_type": "markdown",
   "metadata": {},
   "source": [
    "#### Start Analysis"
   ]
  },
  {
   "cell_type": "code",
   "execution_count": 117,
   "metadata": {},
   "outputs": [],
   "source": [
    "df = pd.read_csv('201805-fordgobike-tripdata.csv')"
   ]
  },
  {
   "cell_type": "markdown",
   "metadata": {},
   "source": [
    "#### 1. Make A Bar Graph of the Count of Rides for Each Day of May 2018.\n",
    "\n",
    "- You can use Seaborn, Matplotlib or Pandas Plot\n",
    "- Figure must be 16 inches wide by 10 inches in height\n",
    "- Vertical bar graph\n",
    "- x-axis is days (do not show month or year value)\n",
    "- y-axis is count of rides\n",
    "- x-axis days must be in sequential order from 1 to 31\n",
    "\n",
    "Hints:\n",
    "- https://pandas.pydata.org/pandas-docs/stable/generated/pandas.to_datetime.html\n",
    "- https://pandas.pydata.org/pandas-docs/stable/generated/pandas.Series.dt.day.html\n",
    "- https://pandas.pydata.org/pandas-docs/stable/generated/pandas.core.groupby.GroupBy.size.html or https://pandas.pydata.org/pandas-docs/version/0.22/generated/pandas.Series.value_counts.html"
   ]
  },
  {
   "cell_type": "code",
   "execution_count": null,
   "metadata": {},
   "outputs": [],
   "source": [
    "# code here"
   ]
  },
  {
   "cell_type": "markdown",
   "metadata": {},
   "source": [
    "#### 2. Plot Average Count of Rides Per Day of Week\n",
    "\n",
    "- You can use Seaborn, Matplotlib or Pandas Plot\n",
    "- Figure must be 12 inches wide by 8 inches in height\n",
    "- Vertical bar graph\n",
    "- x-axis is weekday name\n",
    "- y-axis is average count of rides\n",
    "- x-axis ticks should be in sequential order of days from Monday to Sunday\n",
    "\n",
    "Hints:\n",
    "- https://pandas.pydata.org/pandas-docs/version/0.21.0/generated/pandas.Series.dt.weekday_name.html\n",
    "- Pandas `pivot_table` method with the `aggfunc` set to `'count'` via https://chrisalbon.com/python/data_wrangling/pandas_pivot_tables/\n",
    "- https://pandas.pydata.org/pandas-docs/stable/generated/pandas.DataFrame.reindex.html"
   ]
  },
  {
   "cell_type": "code",
   "execution_count": null,
   "metadata": {},
   "outputs": [],
   "source": [
    "# code here"
   ]
  },
  {
   "cell_type": "markdown",
   "metadata": {},
   "source": [
    "Imagine it's May 31, 2018...\n",
    "\n",
    "#### 3. Make a Plot with 2 Lines to Mark the Count of Rides the Past 7 days Versus the Previous 7 days before that\n",
    "\n",
    "- Figure size should be 12 inches wide by 10 inches in height\n",
    "- You can use Seaborn, Matplotlib or Pandas Plot\n",
    "- The prior week line should be a dashed line\n",
    "- The current week should be a filled in line\n",
    "- Each line must have a legend\n",
    "- X-tick values can be the days of 25 - 31\n",
    "- y values should be the count of rides each day\n",
    "- Legend must mention each line\n",
    "\n",
    "Hint:\n",
    "- I made 3 lists with 2 lists as counts of rides and 1 of days\n",
    "- I used pure Matplotlib to plot the 2 lines in two different Python statements. Consider `plt.plot(x_values, y_values)`\n",
    "- If using Matplotlib, consider using the `linestyle` argument to get a dashed line: https://matplotlib.org/2.0.2/api/lines_api.html\n",
    "- When I used Matplotlib, I just wrote `plt.legend(['This Week', 'Last Week'])` to generate the legend."
   ]
  },
  {
   "cell_type": "code",
   "execution_count": null,
   "metadata": {},
   "outputs": [],
   "source": [
    "# code here"
   ]
  },
  {
   "cell_type": "markdown",
   "metadata": {},
   "source": [
    "#### 4. Make a Horizontal Bar Plot of Count of Rides from the Top 10 Docks\n",
    "\n",
    "- Figure size should be 10 inches wide by 8 inches in height\n",
    "- You can use Seaborn, Matplotlib or Pandas Plot\n",
    "- Bars should be sorted from greatest to least with largest bar at the top\n",
    "- Make sure there's enough spacing for your y-label from the tick values. Consider using the `labelpad` argument: https://matplotlib.org/api/_as_gen/matplotlib.pyplot.ylabel.html\n",
    "\n",
    "Hints:\n",
    "- Consider using the Pandas `sort_values()` and `head()` or `tail()` method."
   ]
  },
  {
   "cell_type": "code",
   "execution_count": 1,
   "metadata": {},
   "outputs": [],
   "source": [
    "# code here"
   ]
  }
 ],
 "metadata": {
  "kernelspec": {
   "display_name": "Python 3",
   "language": "python",
   "name": "python3"
  },
  "language_info": {
   "codemirror_mode": {
    "name": "ipython",
    "version": 3
   },
   "file_extension": ".py",
   "mimetype": "text/x-python",
   "name": "python",
   "nbconvert_exporter": "python",
   "pygments_lexer": "ipython3",
   "version": "3.6.0"
  }
 },
 "nbformat": 4,
 "nbformat_minor": 2
}
