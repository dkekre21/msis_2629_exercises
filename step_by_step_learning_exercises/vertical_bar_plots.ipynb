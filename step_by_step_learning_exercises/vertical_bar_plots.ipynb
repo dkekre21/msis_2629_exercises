{
 "cells": [
  {
   "cell_type": "markdown",
   "metadata": {},
   "source": [
    "In this exercise, I'll present all my logic - step by step - on how we can build great vertical bar charts and when they're useful.\n",
    "\n",
    "The instructions for code you should complete is in **bold**."
   ]
  },
  {
   "cell_type": "markdown",
   "metadata": {},
   "source": [
    "## Intro to Vertical Bar Plots"
   ]
  },
  {
   "cell_type": "markdown",
   "metadata": {},
   "source": [
    "Vertical bar plots illustrate sizes of data using different bar heights.\n",
    "\n",
    "I'll walk through a few examples of vertical bar charts below."
   ]
  },
  {
   "cell_type": "markdown",
   "metadata": {},
   "source": [
    "### Import Modules"
   ]
  },
  {
   "cell_type": "code",
   "execution_count": 1,
   "metadata": {},
   "outputs": [],
   "source": [
    "import pandas as pd\n",
    "import seaborn as sns\n",
    "import matplotlib.pyplot as plt\n",
    "% matplotlib inline"
   ]
  },
  {
   "cell_type": "markdown",
   "metadata": {},
   "source": [
    "### Example: Average Scooter Rides"
   ]
  },
  {
   "cell_type": "markdown",
   "metadata": {},
   "source": [
    "This data below is for a fictional business that rents out electric scooters for people to ride in San Francisco. They recorded each ride over the past month.\n",
    "\n",
    "Below, I create lists for the days of the week and average number of scooter rides each day of the week."
   ]
  },
  {
   "cell_type": "code",
   "execution_count": 2,
   "metadata": {},
   "outputs": [],
   "source": [
    "days = ['Monday', 'Tuesday', 'Wednesday', 'Thursday', 'Friday', 'Saturday', 'Sunday']\n",
    "avg_count_rides = [2040, 2130, 2080, 1900, 1800, 2190, 1760]"
   ]
  },
  {
   "cell_type": "markdown",
   "metadata": {},
   "source": [
    "I create a Pandas DataFrame with 2 columns: one of days and another of average ride count values.\n",
    "\n",
    "Documentation at: https://pandas.pydata.org/pandas-docs/stable/generated/pandas.DataFrame.html"
   ]
  },
  {
   "cell_type": "code",
   "execution_count": 3,
   "metadata": {},
   "outputs": [],
   "source": [
    "df_avg_scooter_rides = pd.DataFrame({'day': days, 'average ride count': avg_count_rides})"
   ]
  },
  {
   "cell_type": "markdown",
   "metadata": {},
   "source": [
    "Seaborn has a `barplot()` method that we'll use. Please read the documentation at https://seaborn.pydata.org/generated/seaborn.barplot.html.\n",
    "\n",
    "**Inside this `barplot()` method**, we'll want to set a few arguments:\n",
    "\n",
    "- **`x='day'`** because we want the day of the week value to be on the x-axis.\n",
    "- **`y='average ride count'`** because we want these values to appear on the y-axis\n",
    "- **`data=df_avg_scooter_rides`** for our DataFrame to be used as the created one above. By telling Seaborn to use this DataFrame, the `x` and `y` arguments are utilizing the names of our DataFrame columns.\n",
    "- **`orient='v'`** defines the orientation of our plot. We pass in `v` because it stands for vertical.\n",
    "\n",
    "You can start your code below with **`sns.barplot()`** and utilize the arguments mentioned above.**\n",
    "\n",
    "**At the end of your one line of code, add a `;` to suppress Matplotlib text output**. Try running your code with the `;` and without the `;` to see the difference."
   ]
  },
  {
   "cell_type": "code",
   "execution_count": 4,
   "metadata": {},
   "outputs": [],
   "source": [
    "# code here"
   ]
  },
  {
   "cell_type": "markdown",
   "metadata": {},
   "source": [
    "#### Add Additional Styles"
   ]
  },
  {
   "cell_type": "markdown",
   "metadata": {},
   "source": [
    "I think a vertical bar plot works well here because the day names (ex - Monday) are short and readable on the x-axis.\n",
    "\n",
    "Also, we often view the days of a week as a progression from one day to the next, starting from Monday and ending on Sunday. Therefore, I think the chart below works well as a vertical bar chart in order of day of week rather than a horizontal bar chart.\n",
    "\n",
    "We still have an issue in which the names of our days overlap so they're not easy to read. To fix this, we can make the plot bigger.\n",
    "\n",
    "**First, copy all your code from the block above to the code block below. Then, add a new line at the top that is: `plt.figure(figsize=(12, 8))`.** This line of code creates a new Matplotlib plotting figure. We use the argument `figsize()` and set a width of 12 inches and height of 8 inches. \n",
    "\n",
    "This will be a large plot!\n",
    "\n",
    "Documentation at: https://matplotlib.org/api/_as_gen/matplotlib.pyplot.figure.html"
   ]
  },
  {
   "cell_type": "code",
   "execution_count": 5,
   "metadata": {},
   "outputs": [],
   "source": [
    "# code here"
   ]
  },
  {
   "cell_type": "markdown",
   "metadata": {},
   "source": [
    "Now our figure size is much larger; however, it's still tough to read the text. \n",
    "\n",
    "In just one line of code, we can make the:\n",
    "\n",
    "- x-tick values font larger\n",
    "- y-tick values font larger\n",
    "- x-axis label font larger\n",
    "- y-axis label font larger\n",
    "\n",
    "**Copy the two lines of code above to the cell block below. Above your two lines, write `sns.set_context('talk')`.**\n",
    "\n",
    "This line of code scales many elements of the plot to be 1.3 times larger.\n",
    "\n",
    "Once you write this line of code once in a Notebook, the rest of the plots below it will use these styles automatically. So, typically, I put this line of code at the top of a Notebook."
   ]
  },
  {
   "cell_type": "code",
   "execution_count": 6,
   "metadata": {},
   "outputs": [],
   "source": [
    "# code here"
   ]
  },
  {
   "cell_type": "markdown",
   "metadata": {},
   "source": [
    "Wow! This looks great! Everything is large, easy to read and makes sense now. \n",
    "\n",
    "Just one more important element of the plot is missing...we need a title.\n",
    "\n",
    "**Copy your last two lines of code. In Matplotlib, use the `title()` method and pass in the name of a title such as \"Average Scooter Ride Count per Weekday\".** Your code may look like `plt.title(\"Ages of My Friends\")`."
   ]
  },
  {
   "cell_type": "code",
   "execution_count": 7,
   "metadata": {},
   "outputs": [],
   "source": [
    "# code here"
   ]
  }
 ],
 "metadata": {
  "kernelspec": {
   "display_name": "Python 3",
   "language": "python",
   "name": "python3"
  },
  "language_info": {
   "codemirror_mode": {
    "name": "ipython",
    "version": 3
   },
   "file_extension": ".py",
   "mimetype": "text/x-python",
   "name": "python",
   "nbconvert_exporter": "python",
   "pygments_lexer": "ipython3",
   "version": "3.6.0"
  }
 },
 "nbformat": 4,
 "nbformat_minor": 2
}
