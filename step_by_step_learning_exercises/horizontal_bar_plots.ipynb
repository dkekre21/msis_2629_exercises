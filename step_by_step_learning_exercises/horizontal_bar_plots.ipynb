{
 "cells": [
  {
   "cell_type": "markdown",
   "metadata": {},
   "source": [
    "In this exercise, I'll present all my logic - step by step - on how we can build great horizontal bar charts and when horizontal charts are useful. \n",
    "\n",
    "The instructions for code you should complete is in **bold**."
   ]
  },
  {
   "cell_type": "markdown",
   "metadata": {},
   "source": [
    "## Intro to Horizontal Bar Plots"
   ]
  },
  {
   "cell_type": "markdown",
   "metadata": {},
   "source": [
    "Horizontal bar charts illustrate sizes of data using different bar heights.\n",
    "\n",
    "I'll walk through a few examples of horizontal bar charts below."
   ]
  },
  {
   "cell_type": "markdown",
   "metadata": {},
   "source": [
    "### Import Modules"
   ]
  },
  {
   "cell_type": "code",
   "execution_count": 1,
   "metadata": {},
   "outputs": [],
   "source": [
    "import pandas as pd\n",
    "import seaborn as sns\n",
    "import matplotlib.pyplot as plt\n",
    "% matplotlib inline"
   ]
  },
  {
   "cell_type": "markdown",
   "metadata": {},
   "source": [
    "### Example: 4 Family Names"
   ]
  },
  {
   "cell_type": "markdown",
   "metadata": {},
   "source": [
    "Below I create a list of 4 names and a list of 4 ages."
   ]
  },
  {
   "cell_type": "code",
   "execution_count": 2,
   "metadata": {},
   "outputs": [],
   "source": [
    "names = ['Rick Donahue', 'Joseph Johnson', 'Allison Williams', 'Joe Miller']\n",
    "ages = [55, 34, 28, 59]"
   ]
  },
  {
   "cell_type": "markdown",
   "metadata": {},
   "source": [
    "I create a Pandas DataFrame with 2 columns: one of names and another of the ages.\n",
    "\n",
    "Documentation at: https://pandas.pydata.org/pandas-docs/stable/generated/pandas.DataFrame.html"
   ]
  },
  {
   "cell_type": "code",
   "execution_count": 3,
   "metadata": {},
   "outputs": [],
   "source": [
    "df_four_names = pd.DataFrame({'name': names, 'age': ages})"
   ]
  },
  {
   "cell_type": "markdown",
   "metadata": {},
   "source": [
    "Below I can see the output of our DataFrame.\n",
    "\n",
    "**Type the name of the DataFrame and hit enter** to see it printed out."
   ]
  },
  {
   "cell_type": "code",
   "execution_count": 4,
   "metadata": {},
   "outputs": [],
   "source": [
    "# code here"
   ]
  },
  {
   "cell_type": "markdown",
   "metadata": {},
   "source": [
    "There are only 4 names, so the table above is an OK visual of people's ages and names. \n",
    "\n",
    "**Below, type in `df_four_names.info()`**. When we call this `info()` method, we're returned with important information about our DataFrame like the date types of columns, column names, non-null values in each column and more."
   ]
  },
  {
   "cell_type": "code",
   "execution_count": 5,
   "metadata": {},
   "outputs": [],
   "source": [
    "# code here"
   ]
  },
  {
   "cell_type": "markdown",
   "metadata": {},
   "source": [
    "To better understand the ages in easier-to-read manner, we could sort our DataFrame by ages.\n",
    "\n",
    "See the documentation at: https://pandas.pydata.org/pandas-docs/stable/generated/pandas.DataFrame.sort_values.html\n",
    "\n",
    "We'll use this `sort_values()` method on our DataFrame. **Please write out the name of the DataFrame, and in dot notation afterwards, write .sort_values(by='age').** `by` is an argument for the DataFrame to be sorted by a specific column. We want to sort by `age`."
   ]
  },
  {
   "cell_type": "code",
   "execution_count": 6,
   "metadata": {},
   "outputs": [],
   "source": [
    "# code here"
   ]
  },
  {
   "cell_type": "markdown",
   "metadata": {},
   "source": [
    "On the documentation page for `sort_values()` linked above, note how there's an argument for `ascending` that by default is set to `True`. This means our DataFrame will be sorted in ascending order. So, if you read the ages from top to bottom of your printed output above, you'll see how it's by default sorted from the smallest age and *ascends* to the largest age.\n",
    "\n",
    "We can now easily tell Allison Williams is the youngest person and Joe Miller is the oldest.\n",
    "\n",
    "Let's now begin the process of making our first bar plot with these four names. \n",
    "\n",
    "Typically, you see vertical bar plots, not horizontal ones.\n",
    "\n",
    "Seaborn has a `barplot()` method that we'll use. Please read the documentation at https://seaborn.pydata.org/generated/seaborn.barplot.html.\n",
    "\n",
    "**Inside this `barplot()` method**, we'll want to set a few arguments:\n",
    "\n",
    "- **`x='name'`** because we want the x-axis to show the names of the people\n",
    "- **`y='age'`** because we want the y-axis to show the ages of people\n",
    "- **`data=df_four_names`** for our DataFrame to be used as the created one above. By telling Seaborn to use this DataFrame, the `x` and `y` arguments are utilizing the names of our DataFrame columns.\n",
    "- **`orient='v'`** defines the orientation of our plot. We pass in `v` because it stands for vertical.\n",
    "\n",
    "You can start your code below with **`sns.barplot()`** and utilize the arguments mentioned above.\n",
    "\n",
    "**At the end of your one line of code, add a `;` to suppress Matplotlib text output**. Try running your code with the `;` and without the `;` to see the difference."
   ]
  },
  {
   "cell_type": "markdown",
   "metadata": {},
   "source": [
    "\n"
   ]
  },
  {
   "cell_type": "code",
   "execution_count": 7,
   "metadata": {},
   "outputs": [],
   "source": [
    "# code here"
   ]
  },
  {
   "cell_type": "markdown",
   "metadata": {},
   "source": [
    "I think this vertical bar chart looks OK. We can easily see the names and the height of the bars tell us the value of each person's age.\n",
    "\n",
    "Let's try a horizontal bar chart below.\n",
    "\n",
    "Copy all your code from above, but this time change the value for the `orient` argument to `h`."
   ]
  },
  {
   "cell_type": "code",
   "execution_count": 8,
   "metadata": {},
   "outputs": [],
   "source": [
    "# code here"
   ]
  },
  {
   "cell_type": "markdown",
   "metadata": {},
   "source": [
    "This horizontal bar chart also looks OK. We can easily read the names from left to right. The horizontal height of the bar helps us tell the age of each person."
   ]
  },
  {
   "cell_type": "markdown",
   "metadata": {},
   "source": [
    "### Example: 12 Names"
   ]
  },
  {
   "cell_type": "markdown",
   "metadata": {},
   "source": [
    "Below I create two lists of 12 names and 12 ages."
   ]
  },
  {
   "cell_type": "code",
   "execution_count": 9,
   "metadata": {},
   "outputs": [],
   "source": [
    "twelve_names = ['Rick Donahue', 'Joseph Johnson', 'Allison Williams', 'Joe Miller',\n",
    "         'Josephina Petulia', 'Barbara McDonald', 'Jamie Orien', 'Jose Cordero',\n",
    "        'Paul Burtrard', 'Melanie Griffith', 'Natalia Romanovsky', 'Jake Sanders']\n",
    "twelve_ages = [55, 34, 28, 59, 33, 35, 39, 58, 42, 49, 23, 29]"
   ]
  },
  {
   "cell_type": "markdown",
   "metadata": {},
   "source": [
    "I use those two Python lists to create a DataFrame with two columns for `name` and `age`.\n",
    "\n",
    "Documentation: https://pandas.pydata.org/pandas-docs/stable/generated/pandas.DataFrame.html"
   ]
  },
  {
   "cell_type": "code",
   "execution_count": 10,
   "metadata": {},
   "outputs": [],
   "source": [
    "df_twelve_people = pd.DataFrame({'name': twelve_names, 'age': twelve_ages})"
   ]
  },
  {
   "cell_type": "markdown",
   "metadata": {},
   "source": [
    "**From your vertical bar chart above, copy all your code in the box below. Change the `data` argument's value to be this new DataFrame of `df_twelve_people`.**"
   ]
  },
  {
   "cell_type": "code",
   "execution_count": 11,
   "metadata": {},
   "outputs": [],
   "source": [
    "# code here"
   ]
  },
  {
   "cell_type": "markdown",
   "metadata": {},
   "source": [
    "Now it's impossible to read the names on the x-axis. They're long names and they overlap one another.\n",
    "\n",
    "Let's try to fix this. \n",
    "\n",
    "**Make the plot bigger. First, copy all your code from the block above to the code block below. Then, add a new line at the top that is: `plt.figure(figsize=(16, 10))`.** This line of code creates a new Matplotlib plotting figure. We use the argument `figsize()` and set a width of 16 inches and height of 10 inches. \n",
    "\n",
    "This will be a large plot!\n",
    "\n",
    "Documentation at: https://matplotlib.org/api/_as_gen/matplotlib.pyplot.figure.html"
   ]
  },
  {
   "cell_type": "code",
   "execution_count": 12,
   "metadata": {},
   "outputs": [],
   "source": [
    "# code here"
   ]
  },
  {
   "cell_type": "markdown",
   "metadata": {},
   "source": [
    "Still, we run into the same issue! Names overlap and we still can't read all of them. \n",
    "\n",
    "We could simply make the fonts of the names smaller, but that would also make it very difficult to read too.\n",
    "\n",
    "There must be a better way!\n",
    "\n",
    "**Copy *just* the Seaborn barplot line to the cell block below. But, change the `orient` argument to have a value of `h`.** This will make the plot a horizontal bar plot."
   ]
  },
  {
   "cell_type": "code",
   "execution_count": 13,
   "metadata": {},
   "outputs": [],
   "source": [
    "# code here"
   ]
  },
  {
   "cell_type": "markdown",
   "metadata": {},
   "source": [
    "Much better! We can now easily read all the names and see their respective ages."
   ]
  },
  {
   "cell_type": "markdown",
   "metadata": {},
   "source": [
    "#### Style Twelve People Horizontal Bar Chart"
   ]
  },
  {
   "cell_type": "markdown",
   "metadata": {},
   "source": [
    "One issue with the plot above is it's difficult to tell who is the oldest person and who's the youngest person. \n",
    "\n",
    "We should sort the ages either from smallest to biggest *or* biggest to smallest.\n",
    "\n",
    "**Let's call the `sort_values()` method on `df_twelve_people`. In the `sort_values` method, set the argument `by` to `age`. This will sort by the `age` column in our DataFrame. Also, set `inplace` to `True` so the sorted results overwrite the previous order rows in our DataFrame.**"
   ]
  },
  {
   "cell_type": "code",
   "execution_count": 14,
   "metadata": {},
   "outputs": [],
   "source": [
    "# code here"
   ]
  },
  {
   "cell_type": "markdown",
   "metadata": {},
   "source": [
    "**Write `df_twelve_people` in the cell block below to see the output.**"
   ]
  },
  {
   "cell_type": "code",
   "execution_count": 15,
   "metadata": {},
   "outputs": [],
   "source": [
    "# code here"
   ]
  },
  {
   "cell_type": "markdown",
   "metadata": {},
   "source": [
    "**Copy all the code from above to generate the same horizontal bar plot**."
   ]
  },
  {
   "cell_type": "code",
   "execution_count": 16,
   "metadata": {},
   "outputs": [],
   "source": [
    "# code here"
   ]
  },
  {
   "cell_type": "markdown",
   "metadata": {},
   "source": [
    "This visualization is a bit easier to read because we can now tell Joe is the oldest and Natalia is the youngest. It's also easier to compare ages of two people too.\n",
    "\n",
    "I think there are still several improvements we can make to make the plot easier to read.\n",
    "\n",
    "**Similar to the code above, set a figure size of 12 inches wide and 8 inches in height. And copy your one-line of code to make a horizontal bar plot below too.**."
   ]
  },
  {
   "cell_type": "code",
   "execution_count": 17,
   "metadata": {},
   "outputs": [],
   "source": [
    "# code here"
   ]
  },
  {
   "cell_type": "markdown",
   "metadata": {},
   "source": [
    "Now our figure size is much larger; however, it's still tough to read people's exact names and see the age values on our x-axis. \n",
    "\n",
    "In just one line of code, we can make the:\n",
    "\n",
    "- x-tick values font larger\n",
    "- y-tick values font larger\n",
    "- x-axis label font larger\n",
    "- y-axis label font larger\n",
    "\n",
    "**Copy the two lines of code above to the cell block below. Above your two lines, write `sns.set_context('talk')`.**\n",
    "\n",
    "This line of code scales many elements of the plot to be 1.3 times larger.\n",
    "\n",
    "Once you write this line of code once in a Notebook, the rest of the plots below it will use these styles automatically. So, typically, I put this line of code at the top of a Notebook."
   ]
  },
  {
   "cell_type": "code",
   "execution_count": 18,
   "metadata": {},
   "outputs": [],
   "source": [
    "# code here"
   ]
  },
  {
   "cell_type": "markdown",
   "metadata": {},
   "source": [
    "Wow! This looks great! Everything is large, easy to read and makes sense now. \n",
    "\n",
    "Just one more important element of the plot is missing...we need a title.\n",
    "\n",
    "**Copy your last two lines of code. In Matplotlib, use the `title()` method and pass in the name of a title such as \"Ages of My Friends\".** Your code may look like `plt.title(\"Ages of My Friends\")`."
   ]
  },
  {
   "cell_type": "code",
   "execution_count": 19,
   "metadata": {},
   "outputs": [],
   "source": [
    "# code here"
   ]
  },
  {
   "cell_type": "markdown",
   "metadata": {},
   "source": [
    "### Building Nearly the Same Plot with Pandas Plot"
   ]
  },
  {
   "cell_type": "markdown",
   "metadata": {},
   "source": [
    "I am going to transform our DataFrame into a Series to use the relevant two columns, names and ages. I find this method I'll show below helpful to make a plot without a legend.\n",
    "\n",
    "Please read the documentation here: https://pandas.pydata.org/pandas-docs/version/0.22/generated/pandas.Series.plot.html\n",
    "\n",
    "**Use the `set_index()` DataFrame method and pass in as the first argument our `name` column so that it appears as the index**. "
   ]
  },
  {
   "cell_type": "code",
   "execution_count": 20,
   "metadata": {},
   "outputs": [],
   "source": [
    "# code here"
   ]
  },
  {
   "cell_type": "markdown",
   "metadata": {},
   "source": [
    "Above is still a DataFrame in which the index is now the `name` field and `age` is a single column.\n",
    "\n",
    "Let's check the type of the new output below. **Copy the code from above and wrap it in the argument for the `type()` function**. \n",
    "\n",
    "The `type()` is a built-in Python function. You don't need to import any special modules to use this function. You can see the documentation here: https://docs.python.org/3/library/functions.html#type"
   ]
  },
  {
   "cell_type": "code",
   "execution_count": 21,
   "metadata": {},
   "outputs": [],
   "source": [
    "# code here"
   ]
  },
  {
   "cell_type": "markdown",
   "metadata": {},
   "source": [
    "**Copy the following code below: `df_twelve_people.set_index('name')['age']`**\n",
    "\n",
    "This takes our previous DataFrame and selects the `age` column. The returned data structure is a Pandas Series."
   ]
  },
  {
   "cell_type": "code",
   "execution_count": 22,
   "metadata": {},
   "outputs": [],
   "source": [
    "# code here"
   ]
  },
  {
   "cell_type": "code",
   "execution_count": 23,
   "metadata": {},
   "outputs": [],
   "source": [
    "# code here"
   ]
  },
  {
   "cell_type": "markdown",
   "metadata": {},
   "source": [
    "**Now, on our new Series, call the `plot()` method. For the `kind` argument in plot, set it to `barh`.** \n",
    "\n",
    "This should create a horizontal bar plot."
   ]
  },
  {
   "cell_type": "code",
   "execution_count": 24,
   "metadata": {},
   "outputs": [],
   "source": [
    "# code here"
   ]
  },
  {
   "cell_type": "markdown",
   "metadata": {},
   "source": [
    "#### Style this Pandas Plot Horizontal Bar Chart"
   ]
  },
  {
   "cell_type": "markdown",
   "metadata": {},
   "source": [
    "Cool! We have a horizontal bar plot. \n",
    "\n",
    "**In the `plot` method, set the argument `figsize` to be `(12, 9)`**. This makes a plot that's 12 inches wide and 9 inches in height."
   ]
  },
  {
   "cell_type": "code",
   "execution_count": 25,
   "metadata": {},
   "outputs": [],
   "source": [
    "# code here"
   ]
  },
  {
   "cell_type": "markdown",
   "metadata": {},
   "source": [
    "Additionally, our visualization needs an x-label and a title.\n",
    "\n",
    "Documentation to set x-label: https://matplotlib.org/api/_as_gen/matplotlib.pyplot.xlabel.html\n",
    "\n",
    "**With our figure, simply utilize the `pyplot` library and `xlabel` method to set a value of `age`.**\n",
    "\n",
    "**In the `plot` method, set the argument `title` to a relevant title**."
   ]
  },
  {
   "cell_type": "code",
   "execution_count": 26,
   "metadata": {},
   "outputs": [],
   "source": [
    "# code here"
   ]
  },
  {
   "cell_type": "markdown",
   "metadata": {},
   "source": [
    "### Final Thoughts"
   ]
  },
  {
   "cell_type": "markdown",
   "metadata": {},
   "source": [
    "When are horizontal bar charts preferred over vertical bar charts? I find horizontal bar charts useful to display a list of categories/values (usually 4 - 20) that have long names; the values on the y-axis in horizontal bar charts typically have text that's easy to read from left to right."
   ]
  },
  {
   "cell_type": "code",
   "execution_count": null,
   "metadata": {},
   "outputs": [],
   "source": []
  }
 ],
 "metadata": {
  "kernelspec": {
   "display_name": "Python 3",
   "language": "python",
   "name": "python3"
  },
  "language_info": {
   "codemirror_mode": {
    "name": "ipython",
    "version": 3
   },
   "file_extension": ".py",
   "mimetype": "text/x-python",
   "name": "python",
   "nbconvert_exporter": "python",
   "pygments_lexer": "ipython3",
   "version": "3.6.0"
  }
 },
 "nbformat": 4,
 "nbformat_minor": 2
}
